{
  "nbformat": 4,
  "nbformat_minor": 0,
  "metadata": {
    "colab": {
      "provenance": []
    },
    "kernelspec": {
      "name": "python3",
      "display_name": "Python 3"
    },
    "language_info": {
      "name": "python"
    }
  },
  "cells": [
    {
      "cell_type": "markdown",
      "source": [
        "# Building a Researcher Agent with LangChain\n",
        "\n",
        "This notebook guides you through designing and implementing a Researcher Agent using LangChain and OpenAI's GPT models. You'll set up your API key, test LLM communication, and build a reusable, well-prompted agent for research tasks."
      ],
      "metadata": {
        "id": "v0siN2KRf_3Z"
      }
    },
    {
      "cell_type": "code",
      "execution_count": null,
      "metadata": {
        "colab": {
          "base_uri": "https://localhost:8080/"
        },
        "id": "lM03QspaJNBO",
        "outputId": "b2039dcc-94db-46e4-84e6-cd88782b1670"
      },
      "outputs": [
        {
          "output_type": "stream",
          "name": "stdout",
          "text": [
            "Collecting langchain-openai\n",
            "  Downloading langchain_openai-0.3.17-py3-none-any.whl.metadata (2.3 kB)\n",
            "Collecting python-dotenv\n",
            "  Downloading python_dotenv-1.1.0-py3-none-any.whl.metadata (24 kB)\n",
            "Requirement already satisfied: openai in /usr/local/lib/python3.11/dist-packages (1.78.1)\n",
            "Requirement already satisfied: langchain-core<1.0.0,>=0.3.59 in /usr/local/lib/python3.11/dist-packages (from langchain-openai) (0.3.59)\n",
            "Requirement already satisfied: tiktoken<1,>=0.7 in /usr/local/lib/python3.11/dist-packages (from langchain-openai) (0.9.0)\n",
            "Requirement already satisfied: anyio<5,>=3.5.0 in /usr/local/lib/python3.11/dist-packages (from openai) (4.9.0)\n",
            "Requirement already satisfied: distro<2,>=1.7.0 in /usr/local/lib/python3.11/dist-packages (from openai) (1.9.0)\n",
            "Requirement already satisfied: httpx<1,>=0.23.0 in /usr/local/lib/python3.11/dist-packages (from openai) (0.28.1)\n",
            "Requirement already satisfied: jiter<1,>=0.4.0 in /usr/local/lib/python3.11/dist-packages (from openai) (0.9.0)\n",
            "Requirement already satisfied: pydantic<3,>=1.9.0 in /usr/local/lib/python3.11/dist-packages (from openai) (2.11.4)\n",
            "Requirement already satisfied: sniffio in /usr/local/lib/python3.11/dist-packages (from openai) (1.3.1)\n",
            "Requirement already satisfied: tqdm>4 in /usr/local/lib/python3.11/dist-packages (from openai) (4.67.1)\n",
            "Requirement already satisfied: typing-extensions<5,>=4.11 in /usr/local/lib/python3.11/dist-packages (from openai) (4.13.2)\n",
            "Requirement already satisfied: idna>=2.8 in /usr/local/lib/python3.11/dist-packages (from anyio<5,>=3.5.0->openai) (3.10)\n",
            "Requirement already satisfied: certifi in /usr/local/lib/python3.11/dist-packages (from httpx<1,>=0.23.0->openai) (2025.4.26)\n",
            "Requirement already satisfied: httpcore==1.* in /usr/local/lib/python3.11/dist-packages (from httpx<1,>=0.23.0->openai) (1.0.9)\n",
            "Requirement already satisfied: h11>=0.16 in /usr/local/lib/python3.11/dist-packages (from httpcore==1.*->httpx<1,>=0.23.0->openai) (0.16.0)\n",
            "Requirement already satisfied: langsmith<0.4,>=0.1.125 in /usr/local/lib/python3.11/dist-packages (from langchain-core<1.0.0,>=0.3.59->langchain-openai) (0.3.42)\n",
            "Requirement already satisfied: tenacity!=8.4.0,<10.0.0,>=8.1.0 in /usr/local/lib/python3.11/dist-packages (from langchain-core<1.0.0,>=0.3.59->langchain-openai) (9.1.2)\n",
            "Requirement already satisfied: jsonpatch<2.0,>=1.33 in /usr/local/lib/python3.11/dist-packages (from langchain-core<1.0.0,>=0.3.59->langchain-openai) (1.33)\n",
            "Requirement already satisfied: PyYAML>=5.3 in /usr/local/lib/python3.11/dist-packages (from langchain-core<1.0.0,>=0.3.59->langchain-openai) (6.0.2)\n",
            "Requirement already satisfied: packaging<25,>=23.2 in /usr/local/lib/python3.11/dist-packages (from langchain-core<1.0.0,>=0.3.59->langchain-openai) (24.2)\n",
            "Requirement already satisfied: annotated-types>=0.6.0 in /usr/local/lib/python3.11/dist-packages (from pydantic<3,>=1.9.0->openai) (0.7.0)\n",
            "Requirement already satisfied: pydantic-core==2.33.2 in /usr/local/lib/python3.11/dist-packages (from pydantic<3,>=1.9.0->openai) (2.33.2)\n",
            "Requirement already satisfied: typing-inspection>=0.4.0 in /usr/local/lib/python3.11/dist-packages (from pydantic<3,>=1.9.0->openai) (0.4.0)\n",
            "Requirement already satisfied: regex>=2022.1.18 in /usr/local/lib/python3.11/dist-packages (from tiktoken<1,>=0.7->langchain-openai) (2024.11.6)\n",
            "Requirement already satisfied: requests>=2.26.0 in /usr/local/lib/python3.11/dist-packages (from tiktoken<1,>=0.7->langchain-openai) (2.32.3)\n",
            "Requirement already satisfied: jsonpointer>=1.9 in /usr/local/lib/python3.11/dist-packages (from jsonpatch<2.0,>=1.33->langchain-core<1.0.0,>=0.3.59->langchain-openai) (3.0.0)\n",
            "Requirement already satisfied: orjson<4.0.0,>=3.9.14 in /usr/local/lib/python3.11/dist-packages (from langsmith<0.4,>=0.1.125->langchain-core<1.0.0,>=0.3.59->langchain-openai) (3.10.18)\n",
            "Requirement already satisfied: requests-toolbelt<2.0.0,>=1.0.0 in /usr/local/lib/python3.11/dist-packages (from langsmith<0.4,>=0.1.125->langchain-core<1.0.0,>=0.3.59->langchain-openai) (1.0.0)\n",
            "Requirement already satisfied: zstandard<0.24.0,>=0.23.0 in /usr/local/lib/python3.11/dist-packages (from langsmith<0.4,>=0.1.125->langchain-core<1.0.0,>=0.3.59->langchain-openai) (0.23.0)\n",
            "Requirement already satisfied: charset-normalizer<4,>=2 in /usr/local/lib/python3.11/dist-packages (from requests>=2.26.0->tiktoken<1,>=0.7->langchain-openai) (3.4.2)\n",
            "Requirement already satisfied: urllib3<3,>=1.21.1 in /usr/local/lib/python3.11/dist-packages (from requests>=2.26.0->tiktoken<1,>=0.7->langchain-openai) (2.4.0)\n",
            "Downloading langchain_openai-0.3.17-py3-none-any.whl (62 kB)\n",
            "\u001b[2K   \u001b[90m━━━━━━━━━━━━━━━━━━━━━━━━━━━━━━━━━━━━━━━━\u001b[0m \u001b[32m62.9/62.9 kB\u001b[0m \u001b[31m2.0 MB/s\u001b[0m eta \u001b[36m0:00:00\u001b[0m\n",
            "\u001b[?25hDownloading python_dotenv-1.1.0-py3-none-any.whl (20 kB)\n",
            "Installing collected packages: python-dotenv, langchain-openai\n",
            "Successfully installed langchain-openai-0.3.17 python-dotenv-1.1.0\n"
          ]
        }
      ],
      "source": [
        "# Install required packages\n",
        "!pip install langchain-openai python-dotenv openai"
      ]
    },
    {
      "cell_type": "markdown",
      "source": [],
      "metadata": {
        "id": "GH02BwHlf-37"
      }
    },
    {
      "cell_type": "markdown",
      "source": [
        "## 1. Getting Your OpenAI API Key\n",
        "\n",
        "To use OpenAI models, you'll need an API key.\n",
        "\n",
        "- Go to [https://platform.openai.com/account/api-keys](https://platform.openai.com/account/api-keys)\n",
        "- Click 'Create new secret key'\n",
        "- Copy the key and save it somewhere safe\n",
        "\n",
        "**Best practice:** Create a `.env` file in this directory and add your key like this:\n"
      ],
      "metadata": {
        "id": "FSGpTzBJgEu7"
      }
    },
    {
      "cell_type": "code",
      "source": [
        "!pip install python-dotenv\n"
      ],
      "metadata": {
        "colab": {
          "base_uri": "https://localhost:8080/"
        },
        "id": "C4MRwC_bjbyC",
        "outputId": "832d24d6-275b-4bab-b3ba-7a99a4ddb6c5"
      },
      "execution_count": 4,
      "outputs": [
        {
          "output_type": "stream",
          "name": "stdout",
          "text": [
            "Requirement already satisfied: python-dotenv in /usr/local/lib/python3.11/dist-packages (1.1.0)\n"
          ]
        }
      ]
    },
    {
      "cell_type": "code",
      "source": [
        "%%writefile .env\n",
        "MY_OPENAI_API_KEY=sk-YOUR-KEY"
      ],
      "metadata": {
        "colab": {
          "base_uri": "https://localhost:8080/"
        },
        "id": "cDzGh9Fnjd_7",
        "outputId": "3d336ede-5cb8-4247-f3b4-b35e18a7f7b1"
      },
      "execution_count": 20,
      "outputs": [
        {
          "output_type": "stream",
          "name": "stdout",
          "text": [
            "Overwriting .env\n"
          ]
        }
      ]
    },
    {
      "cell_type": "code",
      "source": [
        "from dotenv import load_dotenv\n",
        "load_dotenv()\n"
      ],
      "metadata": {
        "colab": {
          "base_uri": "https://localhost:8080/"
        },
        "id": "BwxnaL7kokyZ",
        "outputId": "974aa1db-809d-4f11-860c-302c534ae657"
      },
      "execution_count": 21,
      "outputs": [
        {
          "output_type": "execute_result",
          "data": {
            "text/plain": [
              "True"
            ]
          },
          "metadata": {},
          "execution_count": 21
        }
      ]
    },
    {
      "cell_type": "code",
      "source": [
        "import os\n",
        "\n",
        "MY_OPENAI_API_KEY = os.getenv(\"MY_OPENAI_API_KEY\")\n",
        "\n",
        "print(f\"OPENAI_API_KEY: {MY_OPENAI_API_KEY}\")\n",
        "\n"
      ],
      "metadata": {
        "colab": {
          "base_uri": "https://localhost:8080/"
        },
        "id": "XaW8nvMaomn4",
        "outputId": "b152d96d-7590-445c-f8cb-61037802d824"
      },
      "execution_count": 22,
      "outputs": [
        {
          "output_type": "stream",
          "name": "stdout",
          "text": [
            "OPENAI_API_KEY: sk-YOUR-KEY\n"
          ]
        }
      ]
    },
    {
      "cell_type": "markdown",
      "source": [
        "## 2. Test Your LLM Communication\n",
        "\n",
        "Before building the agent, let's confirm your API key is working by sending a simple prompt to the LLM.\n",
        "\n",
        "If you see a valid response, you're ready to continue!"
      ],
      "metadata": {
        "id": "Mqxyzy7UrTL1"
      }
    },
    {
      "cell_type": "code",
      "source": [
        "# Imports for LangChain\n",
        "from langchain_core.messages import HumanMessage, AIMessage, SystemMessage\n",
        "from langchain_openai import ChatOpenAI\n",
        "\n",
        "api_key = os.getenv(\"OPENAI_API_KEY\")\n",
        "if not api_key:\n",
        "    raise ValueError(\"OPENAI_API_KEY not found. Please add it to your .env file.\")\n",
        "\n",
        "llm = ChatOpenAI(\n",
        "        temperature=0.7,\n",
        "        model_name=\"gpt-4.1\",\n",
        "        api_key=os.environ.get(\"OPENAI_API_KEY\"))\n",
        "\n",
        "response = llm.invoke(\"tell me a joke\")\n",
        "\n",
        "print(response.content)\n",
        "\n"
      ],
      "metadata": {
        "colab": {
          "base_uri": "https://localhost:8080/"
        },
        "id": "1zgcMQBcrT_D",
        "outputId": "862aa7b7-811e-4fc9-cf6d-dddf0399dafe"
      },
      "execution_count": 27,
      "outputs": [
        {
          "output_type": "stream",
          "name": "stdout",
          "text": [
            "Why did the scarecrow win an award?  \n",
            "Because he was outstanding in his field!\n"
          ]
        }
      ]
    },
    {
      "cell_type": "markdown",
      "source": [
        "## 3. Designing the Researcher Agent\n",
        "\n",
        "We define the Researcher Agent's behavior with a clear system prompt. This prompt ensures the agent is objective, thorough, and helpful.\n",
        "\n",
        "**System Prompt:**"
      ],
      "metadata": {
        "id": "k1dE5-5ouLhc"
      }
    },
    {
      "cell_type": "code",
      "source": [
        "RESEARCHER_SYSTEM_PROMPT = \"\"\"\n",
        "You are a Researcher Agent, part of a collaborative research assistant system.\n",
        "Your role is to gather and provide accurate, relevant information on any\n",
        "topic or question presented to you.\n",
        "\n",
        "Your responsibilities include:\n",
        "1. Analyzing research questions to understand what information is being\n",
        "   requested\n",
        "2. Providing comprehensive, well-structured responses based on your knowledge\n",
        "3. Highlighting key points and important information\n",
        "4. Being honest about the limitations of your knowledge\n",
        "5. Maintaining objectivity and avoiding bias in your responses\n",
        "\n",
        "Format your responses in a clear, organized manner with sections, bullet\n",
        "points, or numbered lists as appropriate.\n",
        "Always cite your sources of information when possible.\n",
        "\n",
        "Remember, your goal is to provide the most helpful, accurate information\n",
        "possible to assist in the research process.\n",
        "\"\"\""
      ],
      "metadata": {
        "id": "MBCtRJyOuMLo"
      },
      "execution_count": 28,
      "outputs": []
    },
    {
      "cell_type": "markdown",
      "source": [
        "## 4. Implementing the Researcher Agent\n",
        "\n",
        "Let's implement the agent in Python using LangChain. This function takes a list of messages and returns the agent's response."
      ],
      "metadata": {
        "id": "nwyPL1bZuYph"
      }
    },
    {
      "cell_type": "code",
      "source": [
        "def researcher_agent(messages):\n",
        "    \"\"\"Researcher agent that analyzes questions and provides informative\n",
        "       responses.\"\"\"\n",
        "    # Add the system prompt to guide the researcher agent's behavior\n",
        "    researcher_messages = [SystemMessage(content=RESEARCHER_SYSTEM_PROMPT)] + messages\n",
        "\n",
        "    # Create a ChatOpenAI instance\n",
        "    llm = ChatOpenAI(\n",
        "\n",
        "        temperature=0.5,  # Lower temperature for more factual responses\n",
        "\n",
        "        model_name=\"gpt-4o\",\n",
        "        openai_api_key=os.environ.get(\"OPENAI_API_KEY\")\n",
        "    )\n",
        "\n",
        "    # Get a response from the LLM\n",
        "    response = llm(researcher_messages)\n",
        "\n",
        "    print(\"\\n--- Researcher Agent Response ---\")\n",
        "    print(f\"{response.content[:300]}...\\n\")\n",
        "\n",
        "    return response"
      ],
      "metadata": {
        "id": "GE_kiytMuZZB"
      },
      "execution_count": 31,
      "outputs": []
    },
    {
      "cell_type": "code",
      "source": [
        "messages = [HumanMessage(content=\"What are the latest advancements in renewable energy?\")]\n",
        "researcher_agent(messages)"
      ],
      "metadata": {
        "colab": {
          "base_uri": "https://localhost:8080/"
        },
        "id": "BjJdUnrBuzi9",
        "outputId": "39274819-f435-45ac-dbce-2d49b259f853"
      },
      "execution_count": 35,
      "outputs": [
        {
          "output_type": "stream",
          "name": "stdout",
          "text": [
            "\n",
            "--- Researcher Agent Response ---\n",
            "As of the latest available information up to October 2023, several advancements in renewable energy have been made across various technologies. Here are some key developments:\n",
            "\n",
            "1. **Solar Energy:**\n",
            "   - **Perovskite Solar Cells:** Research continues to enhance the efficiency and stability of perovsk...\n",
            "\n"
          ]
        },
        {
          "output_type": "execute_result",
          "data": {
            "text/plain": [
              "AIMessage(content='As of the latest available information up to October 2023, several advancements in renewable energy have been made across various technologies. Here are some key developments:\\n\\n1. **Solar Energy:**\\n   - **Perovskite Solar Cells:** Research continues to enhance the efficiency and stability of perovskite solar cells. These materials promise higher efficiencies and lower production costs compared to traditional silicon-based solar cells.\\n   - **Bifacial Solar Panels:** These panels capture sunlight on both sides, increasing energy output. They are becoming more common in large-scale solar installations.\\n\\n2. **Wind Energy:**\\n   - **Floating Offshore Wind Farms:** Advancements in floating turbine technology allow for wind farms in deeper waters, where wind resources are typically stronger and more consistent.\\n   - **Larger Turbines:** The development of larger wind turbines, such as those with blades exceeding 100 meters, has increased the energy output and efficiency of wind farms.\\n\\n3. **Energy Storage:**\\n   - **Solid-State Batteries:** These batteries offer higher energy density and improved safety over traditional lithium-ion batteries. They are being explored for both grid storage and electric vehicles.\\n   - **Grid-Scale Storage Solutions:** Innovations in large-scale battery systems, such as vanadium redox flow batteries, are being implemented to store energy from intermittent renewable sources.\\n\\n4. **Hydrogen Energy:**\\n   - **Green Hydrogen Production:** Electrolysis using renewable energy to produce hydrogen is gaining traction. This \"green hydrogen\" is seen as a key component in decarbonizing industries like steel and cement.\\n   - **Hydrogen Fuel Cells:** Advancements in fuel cell technology are improving efficiency and reducing costs, making hydrogen a more viable option for transportation and energy storage.\\n\\n5. **Bioenergy:**\\n   - **Advanced Biofuels:** New processes for producing biofuels from non-food biomass (like algae and agricultural waste) are being developed, potentially reducing competition with food resources.\\n   - **Biogas Upgrading:** Technologies to upgrade biogas to biomethane for use in natural gas grids are improving, enhancing the role of biogas in energy systems.\\n\\n6. **Geothermal Energy:**\\n   - **Enhanced Geothermal Systems (EGS):** These systems involve engineering geothermal reservoirs to improve the extraction of heat, expanding the potential for geothermal energy in regions without natural hot springs.\\n\\n7. **Policy and Infrastructure:**\\n   - **Smart Grids:** Investments in smart grid technologies are enabling better integration of renewable energy sources, improving grid reliability and efficiency.\\n   - **Carbon Capture and Storage (CCS):** While not a renewable energy per se, CCS technologies are being considered to complement renewables by capturing emissions from fossil fuel use.\\n\\nThese advancements are driven by the need to reduce carbon emissions and transition to more sustainable energy systems. Research and development are ongoing, and future breakthroughs are likely to further enhance the efficiency and viability of renewable energy technologies.\\n\\nSources:\\n- International Energy Agency (IEA)\\n- National Renewable Energy Laboratory (NREL)\\n- Recent publications in scientific journals on renewable energy technology advancements', additional_kwargs={'refusal': None}, response_metadata={'token_usage': {'completion_tokens': 618, 'prompt_tokens': 178, 'total_tokens': 796, 'completion_tokens_details': {'accepted_prediction_tokens': 0, 'audio_tokens': 0, 'reasoning_tokens': 0, 'rejected_prediction_tokens': 0}, 'prompt_tokens_details': {'audio_tokens': 0, 'cached_tokens': 0}}, 'model_name': 'gpt-4o-2024-08-06', 'system_fingerprint': 'fp_d8864f8b6b', 'id': 'chatcmpl-BY0Ojs0kiYfaHDD0SJftRbSdaS5us', 'service_tier': 'default', 'finish_reason': 'stop', 'logprobs': None}, id='run--1c826b81-8149-4269-8bcf-366ff7f4dafe-0', usage_metadata={'input_tokens': 178, 'output_tokens': 618, 'total_tokens': 796, 'input_token_details': {'audio': 0, 'cache_read': 0}, 'output_token_details': {'audio': 0, 'reasoning': 0}})"
            ]
          },
          "metadata": {},
          "execution_count": 35
        }
      ]
    }
  ]
}